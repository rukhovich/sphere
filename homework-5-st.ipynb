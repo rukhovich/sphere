{
 "cells": [
  {
   "cell_type": "markdown",
   "metadata": {},
   "source": [
    "# Домашнее задание 5. Линейные модели"
   ]
  },
  {
   "cell_type": "code",
   "execution_count": 1,
   "metadata": {
    "collapsed": false
   },
   "outputs": [
    {
     "name": "stdout",
     "output_type": "stream",
     "text": [
      "Populating the interactive namespace from numpy and matplotlib\n"
     ]
    },
    {
     "name": "stderr",
     "output_type": "stream",
     "text": [
      "c:\\python27\\lib\\site-packages\\sklearn\\cross_validation.py:44: DeprecationWarning: This module was deprecated in version 0.18 in favor of the model_selection module into which all the refactored classes and functions are moved. Also note that the interface of the new CV iterators are different from that of this module. This module will be removed in 0.20.\n",
      "  \"This module will be removed in 0.20.\", DeprecationWarning)\n"
     ]
    }
   ],
   "source": [
    "import random as pr\n",
    "import numpy as np\n",
    "import pandas as pd\n",
    "import matplotlib.pylab as pl\n",
    "import sklearn.cross_validation as cv\n",
    "import sklearn.metrics as sm\n",
    "\n",
    "# Plotting config\n",
    "%pylab inline"
   ]
  },
  {
   "cell_type": "markdown",
   "metadata": {},
   "source": [
    "Зачитываем результат 4 домашки"
   ]
  },
  {
   "cell_type": "code",
   "execution_count": 2,
   "metadata": {
    "collapsed": false,
    "scrolled": true
   },
   "outputs": [],
   "source": [
    "data = np.load(\"out_4.dat.npz\")\n",
    "users = data[\"users\"]\n",
    "X_dataset = data[\"data\"].reshape(1,)[0]"
   ]
  },
  {
   "cell_type": "markdown",
   "metadata": {},
   "source": [
    "Зачитываем категории пользователей"
   ]
  },
  {
   "cell_type": "code",
   "execution_count": 3,
   "metadata": {
    "collapsed": false
   },
   "outputs": [],
   "source": [
    "TRAINING_SET_URL = \"train.csv\"\n",
    "EXAMPLE_SET_URL = \"test.csv\"\n",
    "df_users_train = pd.read_csv(TRAINING_SET_URL, sep=\",\", header=0)\n",
    "df_users_ex = pd.read_csv(EXAMPLE_SET_URL, sep=\",\", header=0)\n",
    "df_users_ex['cls'] = None\n",
    "df_users = pd.concat([df_users_train, df_users_ex])"
   ]
  },
  {
   "cell_type": "markdown",
   "metadata": {},
   "source": [
    "Модель строим для пользователей из twitter_train, нужно выбрать этих пользователей из матрицы из 4 ДЗ:"
   ]
  },
  {
   "cell_type": "code",
   "execution_count": 4,
   "metadata": {
    "collapsed": false,
    "scrolled": true
   },
   "outputs": [],
   "source": [
    "# TODO check this code\n",
    "train_users = df_users_train[\"uid\"].values\n",
    "ix = np.in1d(users, train_users).reshape(users.shape)\n",
    "X = X_dataset[np.where(ix)]"
   ]
  },
  {
   "cell_type": "markdown",
   "metadata": {},
   "source": [
    "Формируем целевую переменную: Делаем join списка пользователей из ДЗ4 с обучающей выборкой."
   ]
  },
  {
   "cell_type": "code",
   "execution_count": 5,
   "metadata": {
    "collapsed": false
   },
   "outputs": [
    {
     "name": "stdout",
     "output_type": "stream",
     "text": [
      "Resulting training set: (7199x201885) feature matrix, 7199 target vector\n"
     ]
    }
   ],
   "source": [
    "Y = df_users_train['cls'].values\n",
    "print \"Resulting training set: (%dx%d) feature matrix, %d target vector\" % (X.shape[0], X.shape[1], Y.shape[0])"
   ]
  },
  {
   "cell_type": "markdown",
   "metadata": {},
   "source": [
    "Чтобы исследовать, как ведут себя признаки, построим распределение количества ненулевых признаков у пользователей, чтобы убедиться, что он удовлетворяет закону Ципфа. Для этого построим гистограмму в логарифмических осях. [Подсказка](http://anokhin.github.io/img/sf1.png)"
   ]
  },
  {
   "cell_type": "code",
   "execution_count": 6,
   "metadata": {
    "collapsed": false
   },
   "outputs": [
    {
     "name": "stderr",
     "output_type": "stream",
     "text": [
      "c:\\python27\\lib\\site-packages\\ipykernel\\__main__.py:18: RuntimeWarning: divide by zero encountered in log\n"
     ]
    },
    {
     "data": {
      "image/png": "[encoded data removed]",
      "text/plain": [
       "<matplotlib.figure.Figure at 0x117aebd0>"
      ]
     },
     "metadata": {},
     "output_type": "display_data"
    }
   ],
   "source": [
    "def draw_log_hist(x):\n",
    "    \"\"\"Draw tokens histogram in log scales\"\"\"\n",
    "    #plt.figure()\n",
    "    #plt.scatter()\n",
    "    f = list(np.array(x.sum(axis=0)).reshape(x.shape[1]))\n",
    "    \n",
    "    L = sorted(f)\n",
    "    X = [L[0]]\n",
    "    Y = [1]\n",
    "    for i in xrange(1, len(L)):\n",
    "        if L[i - 1] == L[i]:\n",
    "            Y[-1] += 1\n",
    "        else:\n",
    "            X.append(L[i])\n",
    "            Y.append(1)\n",
    "    \n",
    "    Y = np.log(np.array(Y))\n",
    "    X = np.log(array(X))\n",
    "    plt.figure()\n",
    "    plt.ylim(0, 10)\n",
    "    plt.xlim(0, 10)\n",
    "    #pw = map(lambda x: \"10^{}\".format(x), range(0, 11))\n",
    "    #plt.yticks(arange(11), pw)\n",
    "    plt.scatter(X, Y, lw=0, s=3)\n",
    "    plt.show()\n",
    "    #for i in L:\n",
    "        \n",
    "    return np.array(f)\n",
    "    #return [0] * x.shape[1]\n",
    "\n",
    "\n",
    "features_counts = draw_log_hist(X)\n"
   ]
  },
  {
   "cell_type": "markdown",
   "metadata": {},
   "source": [
    "Проведем отбор признаков. В самом простом случае просто удаляем признаки, имеющие ненулевое значение у менее, чем 10000 пользователей."
   ]
  },
  {
   "cell_type": "code",
   "execution_count": 13,
   "metadata": {
    "collapsed": false
   },
   "outputs": [],
   "source": [
    "X1 = X.tocsc()[:, features_counts > 200].toarray()"
   ]
  },
  {
   "cell_type": "code",
   "execution_count": 14,
   "metadata": {
    "collapsed": false
   },
   "outputs": [
    {
     "name": "stdout",
     "output_type": "stream",
     "text": [
      "(7199, 23)\n"
     ]
    }
   ],
   "source": [
    "print X1.shape"
   ]
  },
  {
   "cell_type": "markdown",
   "metadata": {},
   "source": [
    "Вариант задания генерируется на основании вашего ника в техносфере."
   ]
  },
  {
   "cell_type": "code",
   "execution_count": 15,
   "metadata": {
    "collapsed": false
   },
   "outputs": [
    {
     "name": "stdout",
     "output_type": "stream",
     "text": [
      "My homework 5 algorithm is: Logistic regression with L2 regularization optimized by Newton method\n"
     ]
    }
   ],
   "source": [
    "USER_NAME = \"g.ruhovich\"\n",
    "OPTIMIZATION_ALGORITHMS = [\"stochastic gradient descent\", \"Newton method\"]\n",
    "REGULARIZATIONS = [\"L1\", \"L2\"]\n",
    "\n",
    "print \"My homework 5 algorithm is: Logistic regression with %s regularization optimized by %s\" % (\n",
    "    REGULARIZATIONS[hash(USER_NAME) % 2],\n",
    "    OPTIMIZATION_ALGORITHMS[hash(USER_NAME[::-1]) % 2]\n",
    ")"
   ]
  },
  {
   "cell_type": "markdown",
   "metadata": {},
   "source": [
    "Реализуем выбранный алгоритм"
   ]
  },
  {
   "cell_type": "code",
   "execution_count": 32,
   "metadata": {
    "collapsed": false
   },
   "outputs": [],
   "source": [
    "from scipy.sparse import csr_matrix\n",
    "\n",
    "def sig(z):\n",
    "    return 1.0 / (1.0 + np.exp(-z))\n",
    "\n",
    "sigvec = np.vectorize(sig)\n",
    "from numpy.linalg import inv\n",
    "from numpy.linalg import solve\n",
    "class LogisticRegression():\n",
    "    def compute_cost(self, X, Y, t, C): \n",
    "        J = np.mean(- Y * np.log(sig(np.dot(X, t)) + 1e-15)\\\n",
    "                    - (1 - Y) * np.log(1 - sig(np.dot(X, t)) + 1e-15))\\\n",
    "                    + C / X.shape[0] * (t**2).sum()\n",
    "        return J\n",
    "    \n",
    "    def Gradient (self, X, Y, theta, C):\n",
    "        gradient = np.sum((sigvec(np.dot(X, theta)) - Y) * X.T, axis = 1)\\\n",
    "            + 2 * theta * C / X.shape[0]\n",
    "        return gradient\n",
    "    \n",
    "    def Hessian(self, X, y, theta, C):\n",
    "        N = len(y)\n",
    "        sig = np.array(map(sigvec, np.dot(X, theta.T)))\n",
    "        res = sig * (np.ones(N) - sig)\n",
    "        matrix_sum = csr_matrix(np.zeros((theta.shape[0], theta.shape[0])))\n",
    "        for i in xrange(N):\n",
    "            matrix_sum += (csr_matrix([X[i]]).T).dot(csr_matrix([X[i]])) * res[i]\n",
    "            summ = matrix_sum / N\n",
    "        return summ.toarray() + 2 * C * theta.shape[0]\n",
    "    \n",
    "    def __init__(self, C=1):\n",
    "        self.C = C\n",
    "    \n",
    "    def fit(self, X, Y=None):\n",
    "        alpha = 1e-10\n",
    "        eps = 1e-5\n",
    "        t = np.zeros(X.shape[1])\n",
    "        t[0] = 1\n",
    "        for i in range(int(1e5)):\n",
    "            g = self.Gradient(X, Y, t, self.C)\n",
    "            H = self.Hessian(X, Y, t, self.C)\n",
    "            #print -inv(H)\n",
    "            #print type(g), g\n",
    "            d = linalg.solve(H, -g)\n",
    "            #d = np.dot(-inv(H),g)\n",
    "            t_new = t + alpha * d\n",
    "            delta = np.sum(np.abs(t_new - t))\n",
    "            print delta\n",
    "            t = t_new\n",
    "                \n",
    "            if delta < eps:\n",
    "                self.theta = t\n",
    "                break\n",
    "        return self\n",
    "    \n",
    "    def get_params(self, deep=False):\n",
    "        return {\"C\": self.C}\n",
    "    def predict_proba(self, X):\n",
    "        prob = sigvec(np.dot(X, self.theta))\n",
    "        return prob\n",
    "    \n",
    "    def predict(self, X):\n",
    "        return self.predict_proba(X) > 0.5\n",
    "    \n",
    "#a = LogisticRegression()\n",
    "#a.fit(np.array([[0, 1], [1, 2], [2, 3], [3, 4]]), np.array([0, 1, 1, 1]))\n",
    "#a.fit(np.array([[1, 0], [0, 1], [2, 3], [3, 2]]), np.array([0, 1, 1, 1]))"
   ]
  },
  {
   "cell_type": "markdown",
   "metadata": {},
   "source": [
    "Реализуем метрику качества, используемую в соревновании: площадь под ROC кривой"
   ]
  },
  {
   "cell_type": "code",
   "execution_count": 33,
   "metadata": {
    "collapsed": true
   },
   "outputs": [],
   "source": [
    "def auroc(y_prob, y_true, step = 0.001):\n",
    "    spe = []\n",
    "    sen = []\n",
    "    area = 0\n",
    "    for x in xrange(0, int(1 / step)):\n",
    "        thres = 1 - step * (x - 1)\n",
    "        y_predict = y_prob >= thres\n",
    "        \n",
    "        true_pos = np.sum(np.logical_and(y_predict == 1, y_true == 1))\n",
    "        false_pos = np.sum(y_predict == 1) - true_pos\n",
    "        \n",
    "        true_neg = np.sum(np.logical_and(y_predict == 0, y_true == 0))\n",
    "        false_neg = (y_predict == 0).sum() - true_neg\n",
    "        if true_pos > 0:\n",
    "            sen.append(true_pos / (true_pos + false_neg))\n",
    "        else:\n",
    "            sen.append(0)\n",
    "            \n",
    "        if false_pos > 0:\n",
    "            spe.append( false_pos / (false_pos + true_neg))\n",
    "        else:\n",
    "            spe.append(0)\n",
    "            \n",
    "        if x > 0:\n",
    "            area += (one_minus_specificity_arr[x] - one_minus_specificity_arr[x - 1]) *\\\n",
    "                ( (sensitivity_arr[x] - sensitivity_arr[x - 1]) / 2 + sensitivity_arr[x - 1])\n",
    "        \n",
    "    return  sensitivity_arr, one_minus_specificity_arr, area"
   ]
  },
  {
   "cell_type": "markdown",
   "metadata": {},
   "source": [
    "Разделим выборку с помощью методики кросс-валидации для того, чтобы настроить параметр регуляризации $C$"
   ]
  },
  {
   "cell_type": "code",
   "execution_count": 34,
   "metadata": {
    "collapsed": false
   },
   "outputs": [
    {
     "name": "stdout",
     "output_type": "stream",
     "text": [
      "5.67621126445e-06\n",
      "5.27091967795e-06\n",
      "5.15843027213e-06\n",
      "5.27684836123e-06\n",
      "5.38037799346e-06\n",
      "3.32894354932e-06\n",
      "3.07691234337e-06\n",
      "3.03104011827e-06\n",
      "3.23305079602e-06\n",
      "3.11260982418e-06\n",
      "3.04294953523e-06\n",
      "2.81064577605e-06\n",
      "2.76973560395e-06\n",
      "2.98116905053e-06\n",
      "2.83037649661e-06\n",
      "3.00967852131e-06\n",
      "2.77983335156e-06\n",
      "2.73969068205e-06\n",
      "2.95182885401e-06\n",
      "2.79744191993e-06\n",
      "3.00629966303e-06\n",
      "2.77685137838e-06\n",
      "2.73666694364e-06\n",
      "2.94884919178e-06\n",
      "2.79409602202e-06\n",
      "3.00598796848e-06\n",
      "2.77657935986e-06\n",
      "2.73639093528e-06\n",
      "2.94857871449e-06\n",
      "2.79378710766e-06\n",
      "3.00622424039e-06\n",
      "2.77681874251e-06\n",
      "2.73663197972e-06\n",
      "2.94883147613e-06\n",
      "2.79401856523e-06\n",
      "3.00892233585e-06\n",
      "2.77950857374e-06\n",
      "2.73934258672e-06\n",
      "2.95165489428e-06\n",
      "2.79666525494e-06\n",
      "0\n"
     ]
    }
   ],
   "source": [
    "C = [0.0, 0.01, 0.1, 1, 10, 100, 1000, 10000]\n",
    "\n",
    "def select_reg_parameter(C, X, Y):\n",
    "    mean = []\n",
    "    std = []\n",
    "    s = []\n",
    "    for i in C:\n",
    "        model = LogisticRegression(i)\n",
    "        score = cv.cross_val_score(model, X, Y, cv = 5, scoring=\"accuracy\")\n",
    "        mean.append(score.mean())\n",
    "        std.append(score.std())\n",
    "        s.append((mean[-1] -1) ** 2 + std[-1] ** 2)\n",
    "    return s.index(min(s))\n",
    "\n",
    "index = select_reg_parameter(C, X1, Y)\n",
    "print index\n"
   ]
  },
  {
   "cell_type": "markdown",
   "metadata": {},
   "source": [
    "Выбираем наилучшее значение $C$, и классифицируем неизвестных пользователей и строим ROC-кривую"
   ]
  },
  {
   "cell_type": "code",
   "execution_count": 41,
   "metadata": {
    "collapsed": false
   },
   "outputs": [
    {
     "name": "stdout",
     "output_type": "stream",
     "text": [
      "5.16137154878e-06\n",
      "Area under the ROC curve : 0.485187\n"
     ]
    },
    {
     "data": {
      "image/png": "[encoded data removed]",
      "text/plain": [
       "<matplotlib.figure.Figure at 0x27ef6330>"
      ]
     },
     "metadata": {},
     "output_type": "display_data"
    }
   ],
   "source": [
    "from sklearn.cross_validation import train_test_split\n",
    "def classify(X, Y, test_size, C):\n",
    "    model = LogisticRegression(C)\n",
    "    X_train, X_test, Y_train, Y_test = train_test_split(X, Y, test_size = test_size)\n",
    "    Y_test_pred = model.fit(X_train, Y_train).predict_proba(X_test)\n",
    "    tpr, fpr, roc_auc = auroc(Y_test_pred, Y_test)\n",
    "    return tpr, fpr, roc_auc, model\n",
    "\n",
    "tpr, fpr, roc_auc, model = classify(X1, Y, 0.3, C[index])\n",
    "\n",
    "print \"Area under the ROC curve : %f\" % roc_auc\n",
    "\n",
    "def plot_roc_curve(tpr, fpr, roc_auc):\n",
    "    \"\"\"Plot ROC curve\"\"\"\n",
    "    plt.figure()\n",
    "    plt.plot([0, 1], [0, 1], color=\"red\")\n",
    "    plt.plot(tpr, fpr, color=\"blue\")\n",
    "    \n",
    "    # Your code here\n",
    "    \n",
    "    return\n",
    "\n",
    "plot_roc_curve(tpr, fpr, roc_auc)"
   ]
  },
  {
   "cell_type": "code",
   "execution_count": null,
   "metadata": {
    "collapsed": true
   },
   "outputs": [],
   "source": []
  },
  {
   "cell_type": "markdown",
   "metadata": {},
   "source": [
    "С помощью полученной модели предсказываем категории для неизвестных пользователей из соревнования и загружаем на kaggle в нужном формате. ДЗ принимается только при наличии загруженных данных на kaggle."
   ]
  },
  {
   "cell_type": "code",
   "execution_count": 45,
   "metadata": {
    "collapsed": true
   },
   "outputs": [],
   "source": [
    "test_users = df_users_ex[\"uid\"].values\n",
    "ix = np.in1d(users, test_users).reshape(users.shape)\n",
    "X_ex = X_dataset[np.where(ix)]\n",
    "X1_ex = X_ex[:,features_counts > 200]\n",
    "X1_ex = X1_ex.toarray()"
   ]
  },
  {
   "cell_type": "code",
   "execution_count": 46,
   "metadata": {
    "collapsed": false
   },
   "outputs": [],
   "source": [
    "predicted = model.predict_proba(X1_ex)\n",
    "df_users_ex.columns = [u'uid', u'cls']\n",
    "df_users_ex['cls'] = predicted\n",
    "df_users_ex.to_csv(path_or_buf = \"result.csv\", index = False)"
   ]
  },
  {
   "cell_type": "code",
   "execution_count": null,
   "metadata": {
    "collapsed": true
   },
   "outputs": [],
   "source": []
  }
 ],
 "metadata": {
  "kernelspec": {
   "display_name": "Python 2",
   "language": "python",
   "name": "python2"
  },
  "language_info": {
   "codemirror_mode": {
    "name": "ipython",
    "version": 2
   },
   "file_extension": ".py",
   "mimetype": "text/x-python",
   "name": "python",
   "nbconvert_exporter": "python",
   "pygments_lexer": "ipython2",
   "version": "2.7.12"
  }
 },
 "nbformat": 4,
 "nbformat_minor": 0
}
