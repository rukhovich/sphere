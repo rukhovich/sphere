{
 "cells": [
  {
   "cell_type": "markdown",
   "metadata": {},
   "source": [
    "# Домашнее задание 4. Конструирование текстовых признаков из твитов пользователей"
   ]
  },
  {
   "cell_type": "markdown",
   "metadata": {},
   "source": [
    "## Сбор данных"
   ]
  },
  {
   "cell_type": "markdown",
   "metadata": {},
   "source": [
    "Первый этап - сбор твитов пользователей. Необходимо подключаться к Twitter API и запрашивать твиты по id пользователя. \n",
    "Подключение к API подробно описано в ДЗ 1."
   ]
  },
  {
   "cell_type": "code",
   "execution_count": 1,
   "metadata": {
    "collapsed": false
   },
   "outputs": [],
   "source": [
    "import twitter\n",
    "\n",
    "CONSUMER_KEY = \"0dtheZNlcjBemGJ6PLcIcM8eb\"\n",
    "CONSUMER_SECRET = \"7icIh2jU7bwuDzmHr978wB2f3DpK2EEsioAypWKyRuiYGABdvg\"\n",
    "\n",
    "ACCESS_TOKEN_KEY = \"781465906413273088-VeNI7oePGsLep2duwLpVOVkIaLTzS3L\"\n",
    "ACCESS_TOKEN_SECRET = \"MEVsCOFnnOP6GMVeyfFfdci8cOFZx9n7efypAi87YFe9o\"\n",
    "\n",
    "api = twitter.Api(consumer_key=CONSUMER_KEY, \n",
    "                  consumer_secret=CONSUMER_SECRET, \n",
    "                  access_token_key=ACCESS_TOKEN_KEY, \n",
    "                  access_token_secret=ACCESS_TOKEN_SECRET,\n",
    "                  sleep_on_rate_limit=True)"
   ]
  },
  {
   "cell_type": "markdown",
   "metadata": {},
   "source": [
    "Для получения твитов пользователя может быть использован метод GetUserTimeline из библиотеки python-twitter. Он позволяет получить не более 200 твитов пользователя. По каждому пользователю достаточно собрать 200 твитов.\n",
    "\n",
    "Метод имеет ограничение по количеству запросов в секунду. Для получения информации о промежутке времени, которое необходимо подождать для повторного обращения к API может быть использован метод `GetSleepTime`. Для получения информации об ограничениях запросов с помощью метода `GetUserTimeLine` необходимо вызывать `GetSleepTime` с параметром \"statuses/user_timeline\".\n",
    "\n",
    "Метод GetUserTimeline возвращает объекты типа Status. У этих объектов есть метод AsDict, который позволяет представить твит в виде словаря.\n",
    "\n",
    "Id пользователей необходимо считать из файла, как было сделано в ДЗ 1.\n",
    "\n",
    "Необходимо реализовать функцию `get_user_tweets(user_id)`. Входной параметр - id пользователя из файла. Возвращаемое значение - массив твитов пользователя, где каждый твит представлен в виде словаря. Предполагается, что информация о пользователе содержится в твитах, которые пользователь написал сам. Это означает, что можно попробовать отфильтровать ответы другим пользователям, ссылки и ретвиты, а так же картинки и видео, так как наша цель - найти текстовую информацию."
   ]
  },
  {
   "cell_type": "code",
   "execution_count": 2,
   "metadata": {
    "collapsed": false
   },
   "outputs": [],
   "source": [
    "def get_user_tweets(user_id):\n",
    "    \"\"\"returns list of tweets as dicts\"\"\"\n",
    "    try:\n",
    "        a = api.GetUserTimeline(user_id=user_id)\n",
    "    except:\n",
    "        return []\n",
    "    # your code here\n",
    "    a = map(lambda x: x.AsDict(), a)\n",
    "    a = filter(lambda x: x[\"lang\"] == \"en\", a)\n",
    "    '''\n",
    "    return [{'lang': u'en', \n",
    "             'favorited': False, \n",
    "             'truncated': False, \n",
    "             'text': u\"So now I'm on the floor tweeting about it PROB w a black eye n swollen nose\", \n",
    "             'created_at': u'Mon Apr 06 05:59:50 +0000 2015', \n",
    "             'retweeted': False, \n",
    "             'source': u'<a href=\"http://twitter.com/download/iphone\" rel=\"nofollow\">Twitter for iPhone</a>', \n",
    "             'user': {'id': 984121344}, \n",
    "             'id': 584958674528964608}]\n",
    "    '''\n",
    "    return a"
   ]
  },
  {
   "cell_type": "markdown",
   "metadata": {},
   "source": [
    "## Разбор текста твита"
   ]
  },
  {
   "cell_type": "markdown",
   "metadata": {},
   "source": [
    "Обработка текста предполагает разбиение текста на отдельные элементы - параграфы, предложения, слова. Мы будем преобразовывать текст твита к словам. Для этого текст необходимо разбить на слова. Сделать это можно, например, с помощью регулярного выражения.\n",
    "\n",
    "Необходимо реализовать функцию, `get_words(text)`. Входной параметр - строка с текстом. Возвращаемое значение - массив строк (слов). Обратите внимание, что нужно учесть возможное наличие пунктуации и выделить по возможности только слова. "
   ]
  },
  {
   "cell_type": "code",
   "execution_count": 3,
   "metadata": {
    "collapsed": false
   },
   "outputs": [],
   "source": [
    "def get_words(text):\n",
    "    \"\"\"returns list of words\"\"\"\n",
    "    # your code here\n",
    "    text = text.lower()\n",
    "    text = filter(lambda x: (x <= \"z\" and x >= \"a\") or x == \" \", text).split(\" \")\n",
    "    text = filter(lambda x: len(x) > 0,  text)\n",
    "    return text"
   ]
  },
  {
   "cell_type": "code",
   "execution_count": 4,
   "metadata": {
    "collapsed": false
   },
   "outputs": [
    {
     "name": "stdout",
     "output_type": "stream",
     "text": [
      "['here', 'are', 'different', 'words']\n"
     ]
    }
   ],
   "source": [
    "print get_words(\"Here are different words!\")"
   ]
  },
  {
   "cell_type": "markdown",
   "metadata": {},
   "source": [
    "Далее полученные слова необходимо привести к нормальной форме. То есть привести их к форме единственного числа настоящего времени и пр. Сделать это можно с помощью библиотеки nltk. Информацию по загрузке, установке библиотеки и примерах использования можно найти на сайте http://www.nltk.org/\n",
    "\n",
    "Для загрузки всех необходимых словарей можно воспользоваться методом download из библиотеки nltk."
   ]
  },
  {
   "cell_type": "code",
   "execution_count": 5,
   "metadata": {
    "collapsed": false
   },
   "outputs": [],
   "source": [
    "import nltk"
   ]
  },
  {
   "cell_type": "markdown",
   "metadata": {},
   "source": [
    "Для дальнейшей обработки слова должны быть приведены к нижнему регистру. \n",
    "\n",
    "Для приведения к нормальной форме можно использовать `WordNetLemmatizer` из библиотеки nltk. У этого класса есть метод `lemmatize`.\n",
    "\n",
    "Также необходимо убрать из текста так называемые стоп-слова. Это часто используемые слова, не несущие смысловой нагрузки для наших задач. Сделать это можно с помощью `stopwords` из nltk.corpus"
   ]
  },
  {
   "cell_type": "markdown",
   "metadata": {},
   "source": [
    "Необходимо реализовать функцию `get_tokens(words)`. Входной параметр - массив слов. Возвращаемое значение - массив токенов."
   ]
  },
  {
   "cell_type": "code",
   "execution_count": 6,
   "metadata": {
    "collapsed": false
   },
   "outputs": [],
   "source": [
    "import nltk\n",
    "from nltk import ngrams\n",
    "from nltk.tokenize import RegexpTokenizer\n",
    "from nltk import WordNetLemmatizer\n",
    "from nltk.corpus import stopwords\n",
    "\n",
    "def get_tokens(words):\n",
    "    w = WordNetLemmatizer()\n",
    "    ans =  map(lambda x: w.lemmatize(x), words)\n",
    "    ans = filter(lambda x: not x in stopwords.words(\"english\"), ans)\n",
    "    return ans"
   ]
  },
  {
   "cell_type": "code",
   "execution_count": 7,
   "metadata": {
    "collapsed": false
   },
   "outputs": [
    {
     "name": "stdout",
     "output_type": "stream",
     "text": [
      "['different', u'word']\n"
     ]
    }
   ],
   "source": [
    "print get_tokens([\"here\", \"are\", \"different\", \"words\"])"
   ]
  },
  {
   "cell_type": "markdown",
   "metadata": {},
   "source": [
    "Необходимо реализовать функцию `get_tweet_tokens(tweet)`. Входной параметр - текст твита. Возвращаемое значение -- токены твита. "
   ]
  },
  {
   "cell_type": "code",
   "execution_count": 8,
   "metadata": {
    "collapsed": false
   },
   "outputs": [],
   "source": [
    "def get_tweet_tokens(tweet):\n",
    "    return get_tokens(get_words(tweet))\n",
    "    #return ['different', u'word']"
   ]
  },
  {
   "cell_type": "markdown",
   "metadata": {},
   "source": [
    "Необходимо реализовать функцию `collect_users_tokens()`. Функция должна сконструировать матрицу признаков пользователей. В этой матрице строка - пользователь. Столбец - токен. На пересечении - сколько раз токен встречается у пользователя.\n",
    "Для построения матрицы можно использовать `DictVectorizer` из `sklearn.feature_extraction`."
   ]
  },
  {
   "cell_type": "code",
   "execution_count": 9,
   "metadata": {
    "collapsed": true
   },
   "outputs": [],
   "source": [
    "from sklearn.feature_extraction import DictVectorizer"
   ]
  },
  {
   "cell_type": "code",
   "execution_count": 13,
   "metadata": {
    "collapsed": false
   },
   "outputs": [],
   "source": [
    "def collect_users_tokens(df_users):\n",
    "    df = df_users\n",
    "    \"\"\"returns users list and list of user dicts. Each dict contains frequence of user tokens\"\"\"\n",
    "    uid = df[\"uid\"]\n",
    "    print len(uid)\n",
    "    tw = []\n",
    "    k = 0\n",
    "    for i in uid:\n",
    "        if k % 100 == 0:\n",
    "            print k, k * 1.0 / len(uid),\n",
    "        k += 1\n",
    "        tw.append({})\n",
    "        sen = []\n",
    "        try:\n",
    "            sen = map(lambda x: x[\"text\"], get_user_tweets(i))\n",
    "        except:\n",
    "            print \"except\"\n",
    "        sen = ' '.join(sen)\n",
    "        tokens = get_tweet_tokens(sen)\n",
    "        for j in tokens:\n",
    "            if not j in tw[-1]:\n",
    "                tw[-1][j] = 0\n",
    "            tw[-1][j] += 1\n",
    "    \n",
    "    np.save(\"tweets.npy\", tw)\n",
    "    # your code here\n",
    "    # save intermediate result\n",
    "    return uid, tw\n",
    "    #return [12345], [{u'eye': 1, u'floor': 1, u'tweeting': 1, u'n': 1, u'black': 1, u'nose': 1, u'w': 1, u'swollen': 1, u\"i'm\": 1, u'prob': 1}]\n"
   ]
  },
  {
   "cell_type": "code",
   "execution_count": 14,
   "metadata": {
    "collapsed": false,
    "scrolled": true
   },
   "outputs": [
    {
     "name": "stdout",
     "output_type": "stream",
     "text": [
      "11947\n",
      "0 0.0 100 0.00837030216791 200 0.0167406043358 300 0.0251109065037 400 0.0334812086716 500 0.0418515108395 600 0.0502218130074 700 0.0585921151754 800 0.0669624173433 900 0.0753327195112 1000 0.0837030216791 1100 0.092073323847 1200 0.100443626015 1300 0.108813928183 1400 0.117184230351 1500 0.125554532519 1600 0.133924834687 1700 0.142295136854 1800 0.150665439022 1900 0.15903574119 2000 0.167406043358 2100 0.175776345526 2200 0.184146647694 2300 0.192516949862 2400 0.20088725203 2500 0.209257554198 2600 0.217627856366 2700 0.225998158534 2800 0.234368460701 2900 0.242738762869 3000 0.251109065037 3100 0.259479367205 3200 0.267849669373 3300 0.276219971541 3400 0.284590273709 3500 0.292960575877 3600 0.301330878045 3700 0.309701180213 3800 0.318071482381 3900 0.326441784548 4000 0.334812086716 4100 0.343182388884 4200 0.351552691052 4300 0.35992299322 4400 0.368293295388 4500 0.376663597556 4600 0.385033899724 4700 0.393404201892 4800 0.40177450406 4900 0.410144806228 5000 0.418515108395 5100 0.426885410563 5200 0.435255712731 5300 0.443626014899 5400 0.451996317067 5500 0.460366619235 5600 0.468736921403 5700 0.477107223571 5800 0.485477525739 5900 0.493847827907 6000 0.502218130074 6100 0.510588432242 6200 0.51895873441 6300 0.527329036578 6400 0.535699338746 6500 0.544069640914 6600 0.552439943082 6700 0.56081024525 6800 0.569180547418 6900 0.577550849586 7000 0.585921151754 7100 0.594291453921 7200 0.602661756089 7300 0.611032058257 7400 0.619402360425 7500 0.627772662593 7600 0.636142964761 7700 0.644513266929 7800 0.652883569097 7900 0.661253871265 8000 0.669624173433 8100 0.677994475601 8200 0.686364777768 8300 0.694735079936 8400 0.703105382104 8500 0.711475684272 8600 0.71984598644 8700 0.728216288608 8800 0.736586590776 8900 0.744956892944 9000 0.753327195112 9100 0.76169749728 9200 0.770067799448 9300 0.778438101615 9400 0.786808403783 9500 0.795178705951 9600 0.803549008119 9700 0.811919310287 9800 0.820289612455 9900 0.828659914623 10000 0.837030216791 10100 0.845400518959 10200 0.853770821127 10300 0.862141123295 10400 0.870511425462 10500 0.87888172763 10600 0.887252029798 10700 0.895622331966 10800 0.903992634134 10900 0.912362936302 11000 0.92073323847 11100 0.929103540638 11200 0.937473842806 11300 0.945844144974 11400 0.954214447142 11500 0.962584749309 11600 0.970955051477 11700 0.979325353645 11800 0.987695655813 11900 0.996065957981\n"
     ]
    }
   ],
   "source": [
    "import pandas as pd\n",
    "from collections import defaultdict\n",
    "import json\n",
    "from sklearn.feature_extraction import DictVectorizer\n",
    "import numpy as np\n",
    "\n",
    "#TRAINING_SET_URL = \"twitter_train.txt\"\n",
    "#EXAMPLE_SET_URL = \"twitter_example.txt\"\n",
    "TRAINING_SET_URL = \"train.csv\"\n",
    "EXAMPLE_SET_URL = \"test.csv\"\n",
    "\n",
    "df_users_train = pd.read_csv(TRAINING_SET_URL, sep=\",\", header=0, names=[\"uid\", \"cat\"])\n",
    "\n",
    "df_users_ex = pd.read_csv(EXAMPLE_SET_URL, sep=\",\", header=0, names=[\"uid\"])\n",
    "df_users_ex['cat'] = None\n",
    "df_users = pd.concat([df_users_train, df_users_ex])\n",
    "users, users_tokens = collect_users_tokens(df_users)\n",
    "v = DictVectorizer()\n",
    "vs = v.fit_transform(users_tokens)\n"
   ]
  },
  {
   "cell_type": "raw",
   "metadata": {},
   "source": [
    "Сохраним полученные данные в файл. Используется метод savez из numpy. "
   ]
  },
  {
   "cell_type": "code",
   "execution_count": 16,
   "metadata": {
    "collapsed": false
   },
   "outputs": [],
   "source": [
    "import numpy as np\n",
    "np.savez(\"out_4.dat\", data=vs, users=users, users_tokens=users_tokens )"
   ]
  },
  {
   "cell_type": "markdown",
   "metadata": {},
   "source": [
    "Далее для получения представления о полученной информацию о токенах предлагается отобразить ее в виде облака тэгов. [Подсказка](http://anokhin.github.io/img/tag_cloud.png). "
   ]
  },
  {
   "cell_type": "code",
   "execution_count": 135,
   "metadata": {
    "collapsed": false
   },
   "outputs": [],
   "source": [
    "from wordcloud import WordCloud, STOPWORDS\n",
    "import matplotlib.pyplot as plt\n",
    "from os import path\n",
    "from scipy.misc import imread\n",
    "\n",
    "def draw_tag_cloud(v, vs):\n",
    "    \"\"\"Draws tag cloud of found tokens\"\"\"\n",
    "    #print vs[2]\n",
    "    tok = v.get_feature_names()\n",
    "    num = vs.sum(axis=0)\n",
    "    num = np.array(num)[0]\n",
    "    a = list(np.array(sorted(num, reverse=True)).astype(int)[0:100])\n",
    "    b = list(num)\n",
    "    c = []\n",
    "    for i in range(100):\n",
    "        c.append(tok[b.index(a[i])])\n",
    "    \n",
    "    #d = path.dirname(__file__)\n",
    "    #mask = imread(path.join(d, \"tw.png\"))\n",
    "    mask = imread(\"tw.png\")\n",
    "    wc = WordCloud(background_color=\"white\", max_words=100, mask=mask)\n",
    "    wc.generate(' '.join(c))\n",
    "    wc.to_file(\"tw_new.png\")\n",
    "    \n",
    "    plt.imshow(wc)\n",
    "    plt.axis(\"off\")\n",
    "    plt.show()\n",
    "    \n",
    "    return"
   ]
  },
  {
   "cell_type": "code",
   "execution_count": 133,
   "metadata": {
    "collapsed": false
   },
   "outputs": [
    {
     "data": {
      "image/png": "[encoded data removed]",
      "text/plain": [
       "<matplotlib.figure.Figure at 0x7f00e89be910>"
      ]
     },
     "metadata": {},
     "output_type": "display_data"
    }
   ],
   "source": [
    "draw_tag_cloud(v, vs)"
   ]
  }
 ],
 "metadata": {
  "kernelspec": {
   "display_name": "Python 2",
   "language": "python",
   "name": "python2"
  },
  "language_info": {
   "codemirror_mode": {
    "name": "ipython",
    "version": 2
   },
   "file_extension": ".py",
   "mimetype": "text/x-python",
   "name": "python",
   "nbconvert_exporter": "python",
   "pygments_lexer": "ipython2",
   "version": "2.7.12"
  }
 },
 "nbformat": 4,
 "nbformat_minor": 0
}
